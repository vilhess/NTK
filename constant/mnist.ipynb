{
 "cells": [
  {
   "cell_type": "code",
   "execution_count": 3,
   "metadata": {},
   "outputs": [],
   "source": [
    "import sys\n",
    "sys.path.append('../')\n",
    "\n",
    "import torch \n",
    "import torch.nn as nn \n",
    "import torch.optim as optim\n",
    "from torchvision.datasets import MNIST\n",
    "from torch.utils.data import DataLoader\n",
    "from torchvision.transforms import ToTensor\n",
    "import numpy as np\n",
    "import matplotlib.pyplot as plt\n",
    "from tqdm import trange\n",
    "\n",
    "from models.classification import NN, CNN\n",
    "from compute_ntk import get_ntk, get_fnet_single\n",
    "from utils import get_relative_norm\n",
    "\n",
    "DEVICE=\"cuda\""
   ]
  },
  {
   "cell_type": "code",
   "execution_count": 4,
   "metadata": {},
   "outputs": [],
   "source": [
    "dataset = MNIST(\"../../Datasets\", download=False, train=True, transform=ToTensor())\n",
    "\n",
    "trainloader = DataLoader(dataset, batch_size=128)\n",
    "x_ntk = torch.stack([dataset[i][0] for i in range(20)]).to(DEVICE)"
   ]
  },
  {
   "cell_type": "markdown",
   "metadata": {},
   "source": [
    "# Linear Model:"
   ]
  },
  {
   "cell_type": "code",
   "execution_count": 11,
   "metadata": {},
   "outputs": [],
   "source": [
    "EPOCHS=20\n",
    "ITER=5\n",
    "\n",
    "results_dict = {\n",
    "    50:[[0] for _ in range(ITER)],\n",
    "    100:[[0] for _ in range(ITER)],\n",
    "    500:[[0] for _ in range(ITER)],\n",
    "    1000:[[0] for _ in range(ITER)],\n",
    "    5000:[[0] for _ in range(ITER)],\n",
    "    10000:[[0] for _ in range(ITER)],\n",
    "}"
   ]
  },
  {
   "cell_type": "code",
   "execution_count": 12,
   "metadata": {},
   "outputs": [
    {
     "name": "stdout",
     "output_type": "stream",
     "text": [
      "*** Working on model 50 , iter 1/5 ***\n"
     ]
    },
    {
     "name": "stderr",
     "output_type": "stream",
     "text": [
      "for epoch 19 ; training loss : 245.3591556996107: 100%|██████████| 20/20 [00:48<00:00,  2.41s/it] \n"
     ]
    },
    {
     "name": "stdout",
     "output_type": "stream",
     "text": [
      "*** Working on model 50 , iter 2/5 ***\n"
     ]
    },
    {
     "name": "stderr",
     "output_type": "stream",
     "text": [
      "for epoch 19 ; training loss : 246.08466985821724: 100%|██████████| 20/20 [00:47<00:00,  2.36s/it]\n"
     ]
    },
    {
     "name": "stdout",
     "output_type": "stream",
     "text": [
      "*** Working on model 50 , iter 3/5 ***\n"
     ]
    },
    {
     "name": "stderr",
     "output_type": "stream",
     "text": [
      "for epoch 19 ; training loss : 247.92579799890518: 100%|██████████| 20/20 [00:47<00:00,  2.40s/it]\n"
     ]
    },
    {
     "name": "stdout",
     "output_type": "stream",
     "text": [
      "*** Working on model 50 , iter 4/5 ***\n"
     ]
    },
    {
     "name": "stderr",
     "output_type": "stream",
     "text": [
      "for epoch 19 ; training loss : 247.72084018588066: 100%|██████████| 20/20 [00:48<00:00,  2.43s/it]\n"
     ]
    },
    {
     "name": "stdout",
     "output_type": "stream",
     "text": [
      "*** Working on model 50 , iter 5/5 ***\n"
     ]
    },
    {
     "name": "stderr",
     "output_type": "stream",
     "text": [
      "for epoch 19 ; training loss : 241.2127944380045: 100%|██████████| 20/20 [00:48<00:00,  2.44s/it] \n"
     ]
    },
    {
     "name": "stdout",
     "output_type": "stream",
     "text": [
      "*** Working on model 100 , iter 1/5 ***\n"
     ]
    },
    {
     "name": "stderr",
     "output_type": "stream",
     "text": [
      "for epoch 19 ; training loss : 197.3082636296749: 100%|██████████| 20/20 [00:49<00:00,  2.46s/it] \n"
     ]
    },
    {
     "name": "stdout",
     "output_type": "stream",
     "text": [
      "*** Working on model 100 , iter 2/5 ***\n"
     ]
    },
    {
     "name": "stderr",
     "output_type": "stream",
     "text": [
      "for epoch 19 ; training loss : 198.76651471853256: 100%|██████████| 20/20 [00:48<00:00,  2.42s/it]\n"
     ]
    },
    {
     "name": "stdout",
     "output_type": "stream",
     "text": [
      "*** Working on model 100 , iter 3/5 ***\n"
     ]
    },
    {
     "name": "stderr",
     "output_type": "stream",
     "text": [
      "for epoch 19 ; training loss : 202.26062448322773: 100%|██████████| 20/20 [00:49<00:00,  2.47s/it]\n"
     ]
    },
    {
     "name": "stdout",
     "output_type": "stream",
     "text": [
      "*** Working on model 100 , iter 4/5 ***\n"
     ]
    },
    {
     "name": "stderr",
     "output_type": "stream",
     "text": [
      "for epoch 19 ; training loss : 198.2543852776289: 100%|██████████| 20/20 [00:49<00:00,  2.47s/it] \n"
     ]
    },
    {
     "name": "stdout",
     "output_type": "stream",
     "text": [
      "*** Working on model 100 , iter 5/5 ***\n"
     ]
    },
    {
     "name": "stderr",
     "output_type": "stream",
     "text": [
      "for epoch 19 ; training loss : 199.93260636925697: 100%|██████████| 20/20 [01:01<00:00,  3.06s/it]\n"
     ]
    },
    {
     "name": "stdout",
     "output_type": "stream",
     "text": [
      "*** Working on model 500 , iter 1/5 ***\n"
     ]
    },
    {
     "name": "stderr",
     "output_type": "stream",
     "text": [
      "for epoch 19 ; training loss : 142.28065285086632: 100%|██████████| 20/20 [00:50<00:00,  2.54s/it]\n"
     ]
    },
    {
     "name": "stdout",
     "output_type": "stream",
     "text": [
      "*** Working on model 500 , iter 2/5 ***\n"
     ]
    },
    {
     "name": "stderr",
     "output_type": "stream",
     "text": [
      "for epoch 19 ; training loss : 142.54193373024464: 100%|██████████| 20/20 [00:49<00:00,  2.49s/it]\n"
     ]
    },
    {
     "name": "stdout",
     "output_type": "stream",
     "text": [
      "*** Working on model 500 , iter 3/5 ***\n"
     ]
    },
    {
     "name": "stderr",
     "output_type": "stream",
     "text": [
      "for epoch 19 ; training loss : 141.21209111064672: 100%|██████████| 20/20 [00:49<00:00,  2.48s/it]\n"
     ]
    },
    {
     "name": "stdout",
     "output_type": "stream",
     "text": [
      "*** Working on model 500 , iter 4/5 ***\n"
     ]
    },
    {
     "name": "stderr",
     "output_type": "stream",
     "text": [
      "for epoch 19 ; training loss : 143.04376824200153: 100%|██████████| 20/20 [00:49<00:00,  2.48s/it]\n"
     ]
    },
    {
     "name": "stdout",
     "output_type": "stream",
     "text": [
      "*** Working on model 500 , iter 5/5 ***\n"
     ]
    },
    {
     "name": "stderr",
     "output_type": "stream",
     "text": [
      "for epoch 19 ; training loss : 142.91155755519867: 100%|██████████| 20/20 [00:49<00:00,  2.48s/it]\n"
     ]
    },
    {
     "name": "stdout",
     "output_type": "stream",
     "text": [
      "*** Working on model 1000 , iter 1/5 ***\n"
     ]
    },
    {
     "name": "stderr",
     "output_type": "stream",
     "text": [
      "for epoch 19 ; training loss : 125.97326611354947: 100%|██████████| 20/20 [00:50<00:00,  2.51s/it]\n"
     ]
    },
    {
     "name": "stdout",
     "output_type": "stream",
     "text": [
      "*** Working on model 1000 , iter 2/5 ***\n"
     ]
    },
    {
     "name": "stderr",
     "output_type": "stream",
     "text": [
      "for epoch 19 ; training loss : 125.02413521707058: 100%|██████████| 20/20 [00:49<00:00,  2.49s/it]\n"
     ]
    },
    {
     "name": "stdout",
     "output_type": "stream",
     "text": [
      "*** Working on model 1000 , iter 3/5 ***\n"
     ]
    },
    {
     "name": "stderr",
     "output_type": "stream",
     "text": [
      "for epoch 19 ; training loss : 124.15989565476775: 100%|██████████| 20/20 [00:50<00:00,  2.51s/it]\n"
     ]
    },
    {
     "name": "stdout",
     "output_type": "stream",
     "text": [
      "*** Working on model 1000 , iter 4/5 ***\n"
     ]
    },
    {
     "name": "stderr",
     "output_type": "stream",
     "text": [
      "for epoch 19 ; training loss : 124.3379846662283: 100%|██████████| 20/20 [00:50<00:00,  2.52s/it] \n"
     ]
    },
    {
     "name": "stdout",
     "output_type": "stream",
     "text": [
      "*** Working on model 1000 , iter 5/5 ***\n"
     ]
    },
    {
     "name": "stderr",
     "output_type": "stream",
     "text": [
      "for epoch 19 ; training loss : 125.04151828214526: 100%|██████████| 20/20 [00:50<00:00,  2.53s/it]\n"
     ]
    },
    {
     "name": "stdout",
     "output_type": "stream",
     "text": [
      "*** Working on model 5000 , iter 1/5 ***\n"
     ]
    },
    {
     "name": "stderr",
     "output_type": "stream",
     "text": [
      "for epoch 19 ; training loss : 81.1153085976839: 100%|██████████| 20/20 [00:59<00:00,  2.99s/it]  \n"
     ]
    },
    {
     "name": "stdout",
     "output_type": "stream",
     "text": [
      "*** Working on model 5000 , iter 2/5 ***\n"
     ]
    },
    {
     "name": "stderr",
     "output_type": "stream",
     "text": [
      "for epoch 19 ; training loss : 80.7208862863481: 100%|██████████| 20/20 [01:00<00:00,  3.03s/it]  \n"
     ]
    },
    {
     "name": "stdout",
     "output_type": "stream",
     "text": [
      "*** Working on model 5000 , iter 3/5 ***\n"
     ]
    },
    {
     "name": "stderr",
     "output_type": "stream",
     "text": [
      "for epoch 19 ; training loss : 80.39940724894404: 100%|██████████| 20/20 [01:00<00:00,  3.04s/it] \n"
     ]
    },
    {
     "name": "stdout",
     "output_type": "stream",
     "text": [
      "*** Working on model 5000 , iter 4/5 ***\n"
     ]
    },
    {
     "name": "stderr",
     "output_type": "stream",
     "text": [
      "for epoch 19 ; training loss : 80.5829545930028: 100%|██████████| 20/20 [01:00<00:00,  3.02s/it]  \n"
     ]
    },
    {
     "name": "stdout",
     "output_type": "stream",
     "text": [
      "*** Working on model 5000 , iter 5/5 ***\n"
     ]
    },
    {
     "name": "stderr",
     "output_type": "stream",
     "text": [
      "for epoch 19 ; training loss : 80.70072747394443: 100%|██████████| 20/20 [01:00<00:00,  3.04s/it] \n"
     ]
    },
    {
     "name": "stdout",
     "output_type": "stream",
     "text": [
      "*** Working on model 10000 , iter 1/5 ***\n"
     ]
    },
    {
     "name": "stderr",
     "output_type": "stream",
     "text": [
      "for epoch 19 ; training loss : 62.420668536797166: 100%|██████████| 20/20 [01:21<00:00,  4.09s/it]\n"
     ]
    },
    {
     "name": "stdout",
     "output_type": "stream",
     "text": [
      "*** Working on model 10000 , iter 2/5 ***\n"
     ]
    },
    {
     "name": "stderr",
     "output_type": "stream",
     "text": [
      "for epoch 19 ; training loss : 62.488685766234994: 100%|██████████| 20/20 [01:21<00:00,  4.08s/it]\n"
     ]
    },
    {
     "name": "stdout",
     "output_type": "stream",
     "text": [
      "*** Working on model 10000 , iter 3/5 ***\n"
     ]
    },
    {
     "name": "stderr",
     "output_type": "stream",
     "text": [
      "for epoch 19 ; training loss : 62.560876505449414: 100%|██████████| 20/20 [01:22<00:00,  4.11s/it]\n"
     ]
    },
    {
     "name": "stdout",
     "output_type": "stream",
     "text": [
      "*** Working on model 10000 , iter 4/5 ***\n"
     ]
    },
    {
     "name": "stderr",
     "output_type": "stream",
     "text": [
      "for epoch 19 ; training loss : 62.41236799582839: 100%|██████████| 20/20 [01:21<00:00,  4.06s/it]\n"
     ]
    },
    {
     "name": "stdout",
     "output_type": "stream",
     "text": [
      "*** Working on model 10000 , iter 5/5 ***\n"
     ]
    },
    {
     "name": "stderr",
     "output_type": "stream",
     "text": [
      "for epoch 19 ; training loss : 62.549370968714356: 100%|██████████| 20/20 [01:22<00:00,  4.11s/it]\n"
     ]
    }
   ],
   "source": [
    "for dim in results_dict.keys():\n",
    "    for iter in range(ITER):\n",
    "        print(f'*** Working on model {dim} , iter {iter+1}/{ITER} ***')\n",
    "\n",
    "        model = NN(dim).to(DEVICE)\n",
    "        parameters = {k:v.detach() for k, v in model.named_parameters()}\n",
    "\n",
    "        fnet_single = get_fnet_single(model)\n",
    "        \n",
    "        criterion = nn.CrossEntropyLoss()\n",
    "        optimizer = optim.Adam(model.parameters(), lr=1e-5)\n",
    "\n",
    "        ntk_init = get_ntk(fnet_single, parameters, x_ntk)\n",
    "\n",
    "        pbar = trange(EPOCHS)\n",
    "\n",
    "        for epoch in pbar:\n",
    "            epoch_loss = 0\n",
    "            for x, y in trainloader:\n",
    "                x, y = x.to(DEVICE), y.to(DEVICE)\n",
    "                pred = model(x)\n",
    "                loss = criterion(pred, y)\n",
    "                optimizer.zero_grad()\n",
    "                loss.backward()\n",
    "                optimizer.step()\n",
    "                epoch_loss+=loss.item()\n",
    "\n",
    "            pbar.set_description(f\"for epoch {epoch} ; training loss : {epoch_loss}\")\n",
    "\n",
    "            parameters = {k:v.detach() for k, v in model.named_parameters()}\n",
    "            ntk = get_ntk(fnet_single, parameters, x_ntk)\n",
    "            rel_norm = get_relative_norm(ntk, ntk_init)\n",
    "            results_dict[dim][iter].append(rel_norm)"
   ]
  },
  {
   "cell_type": "code",
   "execution_count": 13,
   "metadata": {},
   "outputs": [
    {
     "data": {
      "image/png": "[encoded data removed]",
      "text/plain": [
       "<Figure size 640x480 with 1 Axes>"
      ]
     },
     "metadata": {},
     "output_type": "display_data"
    }
   ],
   "source": [
    "for dim in results_dict.keys():\n",
    "    mean_results = np.mean(results_dict[dim], axis=0)\n",
    "    plt.plot(mean_results, label=dim)\n",
    "\n",
    "plt.xlabel('Epochs')\n",
    "plt.ylabel(r'$\\frac{\\|\\theta_t - \\theta_0\\|^2}{\\|\\theta_0\\|^2}$')\n",
    "plt.title(\"Evolution of the relative norm of the NTK during the training process\")\n",
    "\n",
    "epochs = np.arange(len(mean_results))\n",
    "plt.xticks(epochs)\n",
    "\n",
    "plt.legend()\n",
    "plt.show()"
   ]
  },
  {
   "cell_type": "markdown",
   "metadata": {},
   "source": [
    "# Convolutional Model:"
   ]
  },
  {
   "cell_type": "code",
   "execution_count": 14,
   "metadata": {},
   "outputs": [],
   "source": [
    "EPOCHS=10\n",
    "ITER=5\n",
    "\n",
    "results_dict = {\n",
    "    16:[[0] for _ in range(ITER)],\n",
    "    32:[[0] for _ in range(ITER)],\n",
    "    64:[[0] for _ in range(ITER)],\n",
    "    128:[[0] for _ in range(ITER)],\n",
    "    256:[[0] for _ in range(ITER)],\n",
    "}"
   ]
  },
  {
   "cell_type": "code",
   "execution_count": 15,
   "metadata": {},
   "outputs": [
    {
     "name": "stdout",
     "output_type": "stream",
     "text": [
      "*** Working on model 16 , iter 1/5 ***\n"
     ]
    },
    {
     "name": "stderr",
     "output_type": "stream",
     "text": [
      "for epoch 9 ; training loss : 187.50918063521385: 100%|██████████| 10/10 [00:26<00:00,  2.68s/it]\n"
     ]
    },
    {
     "name": "stdout",
     "output_type": "stream",
     "text": [
      "*** Working on model 16 , iter 2/5 ***\n"
     ]
    },
    {
     "name": "stderr",
     "output_type": "stream",
     "text": [
      "for epoch 9 ; training loss : 193.60338459908962: 100%|██████████| 10/10 [00:26<00:00,  2.67s/it]\n"
     ]
    },
    {
     "name": "stdout",
     "output_type": "stream",
     "text": [
      "*** Working on model 16 , iter 3/5 ***\n"
     ]
    },
    {
     "name": "stderr",
     "output_type": "stream",
     "text": [
      "for epoch 9 ; training loss : 175.58754151314497: 100%|██████████| 10/10 [00:25<00:00,  2.60s/it]\n"
     ]
    },
    {
     "name": "stdout",
     "output_type": "stream",
     "text": [
      "*** Working on model 16 , iter 4/5 ***\n"
     ]
    },
    {
     "name": "stderr",
     "output_type": "stream",
     "text": [
      "for epoch 9 ; training loss : 188.5527957379818: 100%|██████████| 10/10 [00:25<00:00,  2.59s/it]\n"
     ]
    },
    {
     "name": "stdout",
     "output_type": "stream",
     "text": [
      "*** Working on model 16 , iter 5/5 ***\n"
     ]
    },
    {
     "name": "stderr",
     "output_type": "stream",
     "text": [
      "for epoch 9 ; training loss : 175.17281448096037: 100%|██████████| 10/10 [00:26<00:00,  2.61s/it]\n"
     ]
    },
    {
     "name": "stdout",
     "output_type": "stream",
     "text": [
      "*** Working on model 32 , iter 1/5 ***\n"
     ]
    },
    {
     "name": "stderr",
     "output_type": "stream",
     "text": [
      "for epoch 9 ; training loss : 145.4858429133892: 100%|██████████| 10/10 [00:26<00:00,  2.70s/it]\n"
     ]
    },
    {
     "name": "stdout",
     "output_type": "stream",
     "text": [
      "*** Working on model 32 , iter 2/5 ***\n"
     ]
    },
    {
     "name": "stderr",
     "output_type": "stream",
     "text": [
      "for epoch 9 ; training loss : 142.45678038150072: 100%|██████████| 10/10 [00:26<00:00,  2.68s/it]\n"
     ]
    },
    {
     "name": "stdout",
     "output_type": "stream",
     "text": [
      "*** Working on model 32 , iter 3/5 ***\n"
     ]
    },
    {
     "name": "stderr",
     "output_type": "stream",
     "text": [
      "for epoch 9 ; training loss : 151.77616494894028: 100%|██████████| 10/10 [00:26<00:00,  2.69s/it]\n"
     ]
    },
    {
     "name": "stdout",
     "output_type": "stream",
     "text": [
      "*** Working on model 32 , iter 4/5 ***\n"
     ]
    },
    {
     "name": "stderr",
     "output_type": "stream",
     "text": [
      "for epoch 9 ; training loss : 145.56610587984324: 100%|██████████| 10/10 [00:26<00:00,  2.69s/it]\n"
     ]
    },
    {
     "name": "stdout",
     "output_type": "stream",
     "text": [
      "*** Working on model 32 , iter 5/5 ***\n"
     ]
    },
    {
     "name": "stderr",
     "output_type": "stream",
     "text": [
      "for epoch 9 ; training loss : 148.80561286211014: 100%|██████████| 10/10 [00:26<00:00,  2.66s/it]\n"
     ]
    },
    {
     "name": "stdout",
     "output_type": "stream",
     "text": [
      "*** Working on model 64 , iter 1/5 ***\n"
     ]
    },
    {
     "name": "stderr",
     "output_type": "stream",
     "text": [
      "for epoch 9 ; training loss : 122.2147860340774: 100%|██████████| 10/10 [00:30<00:00,  3.05s/it]\n"
     ]
    },
    {
     "name": "stdout",
     "output_type": "stream",
     "text": [
      "*** Working on model 64 , iter 2/5 ***\n"
     ]
    },
    {
     "name": "stderr",
     "output_type": "stream",
     "text": [
      "for epoch 9 ; training loss : 123.76988389343023: 100%|██████████| 10/10 [00:30<00:00,  3.07s/it]\n"
     ]
    },
    {
     "name": "stdout",
     "output_type": "stream",
     "text": [
      "*** Working on model 64 , iter 3/5 ***\n"
     ]
    },
    {
     "name": "stderr",
     "output_type": "stream",
     "text": [
      "for epoch 9 ; training loss : 123.21492028981447: 100%|██████████| 10/10 [00:31<00:00,  3.11s/it]\n"
     ]
    },
    {
     "name": "stdout",
     "output_type": "stream",
     "text": [
      "*** Working on model 64 , iter 4/5 ***\n"
     ]
    },
    {
     "name": "stderr",
     "output_type": "stream",
     "text": [
      "for epoch 9 ; training loss : 121.3974526822567: 100%|██████████| 10/10 [00:31<00:00,  3.11s/it]\n"
     ]
    },
    {
     "name": "stdout",
     "output_type": "stream",
     "text": [
      "*** Working on model 64 , iter 5/5 ***\n"
     ]
    },
    {
     "name": "stderr",
     "output_type": "stream",
     "text": [
      "for epoch 9 ; training loss : 118.30340383201838: 100%|██████████| 10/10 [00:31<00:00,  3.10s/it]\n"
     ]
    },
    {
     "name": "stdout",
     "output_type": "stream",
     "text": [
      "*** Working on model 128 , iter 1/5 ***\n"
     ]
    },
    {
     "name": "stderr",
     "output_type": "stream",
     "text": [
      "for epoch 9 ; training loss : 95.81054358556867: 100%|██████████| 10/10 [00:40<00:00,  4.02s/it]\n"
     ]
    },
    {
     "name": "stdout",
     "output_type": "stream",
     "text": [
      "*** Working on model 128 , iter 2/5 ***\n"
     ]
    },
    {
     "name": "stderr",
     "output_type": "stream",
     "text": [
      "for epoch 9 ; training loss : 100.21476481482387: 100%|██████████| 10/10 [00:40<00:00,  4.04s/it]\n"
     ]
    },
    {
     "name": "stdout",
     "output_type": "stream",
     "text": [
      "*** Working on model 128 , iter 3/5 ***\n"
     ]
    },
    {
     "name": "stderr",
     "output_type": "stream",
     "text": [
      "for epoch 9 ; training loss : 95.98467547819018: 100%|██████████| 10/10 [00:40<00:00,  4.05s/it]\n"
     ]
    },
    {
     "name": "stdout",
     "output_type": "stream",
     "text": [
      "*** Working on model 128 , iter 4/5 ***\n"
     ]
    },
    {
     "name": "stderr",
     "output_type": "stream",
     "text": [
      "for epoch 9 ; training loss : 95.68253856897354: 100%|██████████| 10/10 [00:40<00:00,  4.05s/it]\n"
     ]
    },
    {
     "name": "stdout",
     "output_type": "stream",
     "text": [
      "*** Working on model 128 , iter 5/5 ***\n"
     ]
    },
    {
     "name": "stderr",
     "output_type": "stream",
     "text": [
      "for epoch 9 ; training loss : 97.85410957038403: 100%|██████████| 10/10 [00:40<00:00,  4.07s/it]\n"
     ]
    },
    {
     "name": "stdout",
     "output_type": "stream",
     "text": [
      "*** Working on model 256 , iter 1/5 ***\n"
     ]
    },
    {
     "name": "stderr",
     "output_type": "stream",
     "text": [
      "for epoch 9 ; training loss : 74.65482892096043: 100%|██████████| 10/10 [01:00<00:00,  6.05s/it]\n"
     ]
    },
    {
     "name": "stdout",
     "output_type": "stream",
     "text": [
      "*** Working on model 256 , iter 2/5 ***\n"
     ]
    },
    {
     "name": "stderr",
     "output_type": "stream",
     "text": [
      "for epoch 9 ; training loss : 75.23762811906636: 100%|██████████| 10/10 [01:00<00:00,  6.04s/it]\n"
     ]
    },
    {
     "name": "stdout",
     "output_type": "stream",
     "text": [
      "*** Working on model 256 , iter 3/5 ***\n"
     ]
    },
    {
     "name": "stderr",
     "output_type": "stream",
     "text": [
      "for epoch 9 ; training loss : 72.03049840405583: 100%|██████████| 10/10 [01:00<00:00,  6.04s/it]\n"
     ]
    },
    {
     "name": "stdout",
     "output_type": "stream",
     "text": [
      "*** Working on model 256 , iter 4/5 ***\n"
     ]
    },
    {
     "name": "stderr",
     "output_type": "stream",
     "text": [
      "for epoch 9 ; training loss : 72.37508874759078: 100%|██████████| 10/10 [01:00<00:00,  6.04s/it]\n"
     ]
    },
    {
     "name": "stdout",
     "output_type": "stream",
     "text": [
      "*** Working on model 256 , iter 5/5 ***\n"
     ]
    },
    {
     "name": "stderr",
     "output_type": "stream",
     "text": [
      "for epoch 9 ; training loss : 72.49300631321967: 100%|██████████| 10/10 [01:00<00:00,  6.02s/it]\n"
     ]
    }
   ],
   "source": [
    "for dim in results_dict.keys():\n",
    "    for iter in range(ITER):\n",
    "        print(f'*** Working on model {dim} , iter {iter+1}/{ITER} ***')\n",
    "\n",
    "        model = CNN(dim).to(DEVICE)\n",
    "        parameters = {k:v.detach() for k, v in model.named_parameters()}\n",
    "\n",
    "        fnet_single = get_fnet_single(model)\n",
    "        \n",
    "        criterion = nn.CrossEntropyLoss()\n",
    "        optimizer = optim.Adam(model.parameters(), lr=1e-5)\n",
    "\n",
    "        ntk_init = get_ntk(fnet_single, parameters, x_ntk)\n",
    "\n",
    "        pbar = trange(EPOCHS)\n",
    "        for epoch in pbar:\n",
    "            epoch_loss = 0\n",
    "            for x, y in trainloader:\n",
    "                x, y = x.to(DEVICE), y.to(DEVICE)\n",
    "                pred = model(x)\n",
    "                loss = criterion(pred, y)\n",
    "                optimizer.zero_grad()\n",
    "                loss.backward()\n",
    "                optimizer.step()\n",
    "                epoch_loss+=loss.item()\n",
    "\n",
    "            pbar.set_description(f\"for epoch {epoch} ; training loss : {epoch_loss}\")\n",
    "\n",
    "            parameters = {k:v.detach() for k, v in model.named_parameters()}\n",
    "            ntk = get_ntk(fnet_single, parameters, x_ntk)\n",
    "            rel_norm = get_relative_norm(ntk, ntk_init)\n",
    "            results_dict[dim][iter].append(rel_norm)"
   ]
  },
  {
   "cell_type": "code",
   "execution_count": 17,
   "metadata": {},
   "outputs": [
    {
     "data": {
      "text/plain": [
       "<matplotlib.legend.Legend at 0x739638151e50>"
      ]
     },
     "execution_count": 17,
     "metadata": {},
     "output_type": "execute_result"
    },
    {
     "data": {
      "image/png": "[encoded data removed]",
      "text/plain": [
       "<Figure size 640x480 with 1 Axes>"
      ]
     },
     "metadata": {},
     "output_type": "display_data"
    }
   ],
   "source": [
    "for dim in results_dict.keys():\n",
    "    mean_results=np.mean(results_dict[dim], axis=0)\n",
    "    plt.plot(mean_results, label=f\"{dim} out-channels\")\n",
    "\n",
    "plt.xlabel('Epochs')\n",
    "plt.ylabel(r'$\\frac{\\|\\theta_t - \\theta_0\\|^2}{\\|\\theta_0\\|^2}$')\n",
    "plt.title(\"Evolution of the relative norm of the NTK during the training process\")\n",
    "epochs = np.arange(len(mean_results))\n",
    "plt.xticks(epochs)\n",
    "plt.legend()\n"
   ]
  },
  {
   "cell_type": "code",
   "execution_count": null,
   "metadata": {},
   "outputs": [],
   "source": []
  }
 ],
 "metadata": {
  "kernelspec": {
   "display_name": "anots",
   "language": "python",
   "name": "python3"
  },
  "language_info": {
   "codemirror_mode": {
    "name": "ipython",
    "version": 3
   },
   "file_extension": ".py",
   "mimetype": "text/x-python",
   "name": "python",
   "nbconvert_exporter": "python",
   "pygments_lexer": "ipython3",
   "version": "3.11.10"
  }
 },
 "nbformat": 4,
 "nbformat_minor": 2
}
