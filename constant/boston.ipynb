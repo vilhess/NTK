{
 "cells": [
  {
   "cell_type": "code",
<<<<<<< HEAD
   "execution_count": 14,
=======
   "execution_count": 1,
>>>>>>> 60c7fd6429691346cb1cb92ec411241ab22f590a
   "metadata": {},
   "outputs": [],
   "source": [
    "import sys\n",
    "sys.path.append('../')\n",
    "\n",
    "import torch \n",
    "import torch.nn as nn \n",
    "import torch.optim as optim\n",
    "import numpy as np\n",
    "import matplotlib.pyplot as plt\n",
    "from tqdm import trange\n",
    "\n",
    "from models.regression import Network\n",
    "from compute_ntk import get_ntk, get_fnet_single\n",
    "from utils import get_relative_norm\n",
    "from boston.dataset import BostonDataset\n",
    "\n",
    "DEVICE=\"cuda\""
   ]
  },
  {
   "cell_type": "code",
<<<<<<< HEAD
   "execution_count": 16,
=======
   "execution_count": 65,
>>>>>>> 60c7fd6429691346cb1cb92ec411241ab22f590a
   "metadata": {},
   "outputs": [],
   "source": [
    "dataset = BostonDataset(path=\"../boston/Boston.csv\")\n",
    "\n",
    "x_ntk = torch.stack([dataset[i][0] for i in range(100)]).to(DEVICE)"
   ]
  },
  {
   "cell_type": "code",
<<<<<<< HEAD
   "execution_count": 17,
   "metadata": {},
   "outputs": [],
   "source": [
    "EPOCHS=50\n",
    "ITER=5\n",
=======
   "execution_count": 66,
   "metadata": {},
   "outputs": [],
   "source": [
    "EPOCHS=4\n",
    "ITER=2\n",
>>>>>>> 60c7fd6429691346cb1cb92ec411241ab22f590a
    "\n",
    "results_dict = {\n",
    "    50:[[0] for _ in range(ITER)],\n",
    "    100:[[0] for _ in range(ITER)],\n",
    "    # 500:[[0] for _ in range(ITER)],\n",
    "    # 1000:[[0] for _ in range(ITER)],\n",
    "    # 5000:[[0] for _ in range(ITER)],\n",
    "    # 10000:[[0] for _ in range(ITER)],\n",
    "}"
   ]
  },
  {
   "cell_type": "code",
<<<<<<< HEAD
   "execution_count": 18,
=======
   "execution_count": 67,
>>>>>>> 60c7fd6429691346cb1cb92ec411241ab22f590a
   "metadata": {},
   "outputs": [
    {
     "name": "stdout",
     "output_type": "stream",
     "text": [
      "*** Working on model 50 , iter 1/5 ***\n"
     ]
    },
    {
     "name": "stderr",
     "output_type": "stream",
     "text": [
<<<<<<< HEAD
      "for epoch 49.0/50 ; training loss : 206546.077003479: 100%|██████████| 50/50 [00:14<00:00,  3.50it/s]  \n"
=======
      "for epoch 3.0/4 ; training loss : 297599.8213634491: 100%|██████████| 4/4 [00:00<00:00,  6.02it/s] \n"
>>>>>>> 60c7fd6429691346cb1cb92ec411241ab22f590a
     ]
    },
    {
     "name": "stdout",
     "output_type": "stream",
     "text": [
      "*** Working on model 50 , iter 2/5 ***\n"
     ]
    },
    {
     "name": "stderr",
     "output_type": "stream",
     "text": [
<<<<<<< HEAD
      "for epoch 49.0/50 ; training loss : 195398.7320829073: 100%|██████████| 50/50 [00:15<00:00,  3.33it/s] \n"
=======
      "for epoch 3.0/4 ; training loss : 295143.73488616943: 100%|██████████| 4/4 [00:00<00:00,  6.50it/s]\n"
>>>>>>> 60c7fd6429691346cb1cb92ec411241ab22f590a
     ]
    },
    {
     "name": "stdout",
     "output_type": "stream",
     "text": [
      "*** Working on model 50 , iter 3/5 ***\n"
     ]
    },
    {
     "name": "stderr",
     "output_type": "stream",
     "text": [
<<<<<<< HEAD
      "for epoch 49.0/50 ; training loss : 200128.1303935051: 100%|██████████| 50/50 [00:14<00:00,  3.55it/s] \n"
=======
      "for epoch 3.0/4 ; training loss : 294893.38946151733: 100%|██████████| 4/4 [00:00<00:00,  6.46it/s]\n"
>>>>>>> 60c7fd6429691346cb1cb92ec411241ab22f590a
     ]
    },
    {
     "name": "stdout",
     "output_type": "stream",
     "text": [
      "*** Working on model 50 , iter 4/5 ***\n"
     ]
    },
    {
     "name": "stderr",
     "output_type": "stream",
     "text": [
<<<<<<< HEAD
      "for epoch 49.0/50 ; training loss : 217387.95042456686: 100%|██████████| 50/50 [00:14<00:00,  3.47it/s]\n"
     ]
    },
    {
     "name": "stdout",
     "output_type": "stream",
     "text": [
      "*** Working on model 50 , iter 5/5 ***\n"
     ]
    },
    {
     "name": "stderr",
     "output_type": "stream",
     "text": [
      "for epoch 49.0/50 ; training loss : 201693.0243806243: 100%|██████████| 50/50 [00:14<00:00,  3.45it/s] \n"
     ]
    },
    {
     "name": "stdout",
     "output_type": "stream",
     "text": [
      "*** Working on model 100 , iter 1/5 ***\n"
     ]
    },
    {
     "name": "stderr",
     "output_type": "stream",
     "text": [
      "for epoch 49.0/50 ; training loss : 129891.91164171696: 100%|██████████| 50/50 [00:14<00:00,  3.41it/s]\n"
     ]
    },
    {
     "name": "stdout",
     "output_type": "stream",
     "text": [
      "*** Working on model 100 , iter 2/5 ***\n"
     ]
    },
    {
     "name": "stderr",
     "output_type": "stream",
     "text": [
      "for epoch 49.0/50 ; training loss : 146910.80168462172: 100%|██████████| 50/50 [00:14<00:00,  3.42it/s]\n"
     ]
    },
    {
     "name": "stdout",
     "output_type": "stream",
     "text": [
      "*** Working on model 100 , iter 3/5 ***\n"
     ]
    },
    {
     "name": "stderr",
     "output_type": "stream",
     "text": [
      "for epoch 49.0/50 ; training loss : 159930.47812204325: 100%|██████████| 50/50 [00:14<00:00,  3.36it/s]\n"
     ]
    },
    {
     "name": "stdout",
     "output_type": "stream",
     "text": [
      "*** Working on model 100 , iter 4/5 ***\n"
     ]
    },
    {
     "name": "stderr",
     "output_type": "stream",
     "text": [
      "for epoch 49.0/50 ; training loss : 141597.48757661693: 100%|██████████| 50/50 [00:14<00:00,  3.37it/s]\n"
     ]
    },
    {
     "name": "stdout",
     "output_type": "stream",
     "text": [
      "*** Working on model 100 , iter 5/5 ***\n"
     ]
    },
    {
     "name": "stderr",
     "output_type": "stream",
     "text": [
      "for epoch 49.0/50 ; training loss : 157759.00319248438: 100%|██████████| 50/50 [00:14<00:00,  3.34it/s]\n"
     ]
    },
    {
     "name": "stdout",
     "output_type": "stream",
     "text": [
      "*** Working on model 500 , iter 1/5 ***\n"
     ]
    },
    {
     "name": "stderr",
     "output_type": "stream",
     "text": [
      "for epoch 49.0/50 ; training loss : 23045.229350623267: 100%|██████████| 50/50 [00:15<00:00,  3.32it/s]\n"
     ]
    },
    {
     "name": "stdout",
     "output_type": "stream",
     "text": [
      "*** Working on model 500 , iter 2/5 ***\n"
     ]
    },
    {
     "name": "stderr",
     "output_type": "stream",
     "text": [
      "for epoch 49.0/50 ; training loss : 20838.092721154364: 100%|██████████| 50/50 [00:15<00:00,  3.32it/s]\n"
     ]
    },
    {
     "name": "stdout",
     "output_type": "stream",
     "text": [
      "*** Working on model 500 , iter 3/5 ***\n"
     ]
    },
    {
     "name": "stderr",
     "output_type": "stream",
     "text": [
      "for epoch 49.0/50 ; training loss : 21008.56969187595: 100%|██████████| 50/50 [00:15<00:00,  3.32it/s] \n"
     ]
    },
    {
     "name": "stdout",
     "output_type": "stream",
     "text": [
      "*** Working on model 500 , iter 4/5 ***\n"
     ]
    },
    {
     "name": "stderr",
     "output_type": "stream",
     "text": [
      "for epoch 49.0/50 ; training loss : 22937.193613712094: 100%|██████████| 50/50 [00:15<00:00,  3.31it/s]\n"
     ]
    },
    {
     "name": "stdout",
     "output_type": "stream",
     "text": [
      "*** Working on model 500 , iter 5/5 ***\n"
     ]
    },
    {
     "name": "stderr",
     "output_type": "stream",
     "text": [
      "for epoch 49.0/50 ; training loss : 21335.821488136837: 100%|██████████| 50/50 [00:15<00:00,  3.27it/s]\n"
     ]
    },
    {
     "name": "stdout",
     "output_type": "stream",
     "text": [
      "*** Working on model 1000 , iter 1/5 ***\n"
     ]
    },
    {
     "name": "stderr",
     "output_type": "stream",
     "text": [
      "for epoch 49.0/50 ; training loss : 14035.217612800887: 100%|██████████| 50/50 [00:15<00:00,  3.23it/s]\n"
     ]
    },
    {
     "name": "stdout",
     "output_type": "stream",
     "text": [
      "*** Working on model 1000 , iter 2/5 ***\n"
     ]
    },
    {
     "name": "stderr",
     "output_type": "stream",
     "text": [
      "for epoch 49.0/50 ; training loss : 13490.764399808832: 100%|██████████| 50/50 [00:15<00:00,  3.26it/s]\n"
     ]
    },
    {
     "name": "stdout",
     "output_type": "stream",
     "text": [
      "*** Working on model 1000 , iter 3/5 ***\n"
     ]
    },
    {
     "name": "stderr",
     "output_type": "stream",
     "text": [
      "for epoch 49.0/50 ; training loss : 13399.5589874836: 100%|██████████| 50/50 [00:15<00:00,  3.24it/s]  \n"
     ]
    },
    {
     "name": "stdout",
     "output_type": "stream",
     "text": [
      "*** Working on model 1000 , iter 4/5 ***\n"
     ]
    },
    {
     "name": "stderr",
     "output_type": "stream",
     "text": [
      "for epoch 49.0/50 ; training loss : 13456.680757986182: 100%|██████████| 50/50 [00:15<00:00,  3.26it/s]\n"
     ]
    },
    {
     "name": "stdout",
     "output_type": "stream",
     "text": [
      "*** Working on model 1000 , iter 5/5 ***\n"
     ]
    },
    {
     "name": "stderr",
     "output_type": "stream",
     "text": [
      "for epoch 49.0/50 ; training loss : 13902.187615009901: 100%|██████████| 50/50 [00:15<00:00,  3.20it/s]\n"
     ]
    },
    {
     "name": "stdout",
     "output_type": "stream",
     "text": [
      "*** Working on model 5000 , iter 1/5 ***\n"
     ]
    },
    {
     "name": "stderr",
     "output_type": "stream",
     "text": [
      "for epoch 49.0/50 ; training loss : 7570.709306513541: 100%|██████████| 50/50 [00:16<00:00,  3.08it/s] \n"
     ]
    },
    {
     "name": "stdout",
     "output_type": "stream",
     "text": [
      "*** Working on model 5000 , iter 2/5 ***\n"
     ]
    },
    {
     "name": "stderr",
     "output_type": "stream",
     "text": [
      "for epoch 49.0/50 ; training loss : 7547.3648619102605: 100%|██████████| 50/50 [00:16<00:00,  3.09it/s]\n"
     ]
    },
    {
     "name": "stdout",
     "output_type": "stream",
     "text": [
      "*** Working on model 5000 , iter 3/5 ***\n"
     ]
    },
    {
     "name": "stderr",
     "output_type": "stream",
     "text": [
      "for epoch 49.0/50 ; training loss : 7546.153042862163: 100%|██████████| 50/50 [00:16<00:00,  3.09it/s] \n"
     ]
    },
    {
     "name": "stdout",
     "output_type": "stream",
     "text": [
      "*** Working on model 5000 , iter 4/5 ***\n"
     ]
    },
    {
     "name": "stderr",
     "output_type": "stream",
     "text": [
      "for epoch 49.0/50 ; training loss : 7625.79302016797: 100%|██████████| 50/50 [00:16<00:00,  3.10it/s]  \n"
     ]
    },
    {
     "name": "stdout",
     "output_type": "stream",
     "text": [
      "*** Working on model 5000 , iter 5/5 ***\n"
     ]
    },
    {
     "name": "stderr",
     "output_type": "stream",
     "text": [
      "for epoch 49.0/50 ; training loss : 7567.417629121686: 100%|██████████| 50/50 [00:16<00:00,  3.11it/s] \n"
     ]
    },
    {
     "name": "stdout",
     "output_type": "stream",
     "text": [
      "*** Working on model 10000 , iter 1/5 ***\n"
     ]
    },
    {
     "name": "stderr",
     "output_type": "stream",
     "text": [
      "for epoch 49.0/50 ; training loss : 6334.8086650491605: 100%|██████████| 50/50 [00:16<00:00,  3.11it/s]\n"
     ]
    },
    {
     "name": "stdout",
     "output_type": "stream",
     "text": [
      "*** Working on model 10000 , iter 2/5 ***\n"
     ]
    },
    {
     "name": "stderr",
     "output_type": "stream",
     "text": [
      "for epoch 49.0/50 ; training loss : 6400.743786176492: 100%|██████████| 50/50 [00:16<00:00,  3.09it/s] \n"
     ]
    },
    {
     "name": "stdout",
     "output_type": "stream",
     "text": [
      "*** Working on model 10000 , iter 3/5 ***\n"
     ]
    },
    {
     "name": "stderr",
     "output_type": "stream",
     "text": [
      "for epoch 49.0/50 ; training loss : 6419.873712027067: 100%|██████████| 50/50 [00:16<00:00,  3.10it/s] \n"
     ]
    },
    {
     "name": "stdout",
     "output_type": "stream",
     "text": [
      "*** Working on model 10000 , iter 4/5 ***\n"
     ]
    },
    {
     "name": "stderr",
     "output_type": "stream",
     "text": [
      "for epoch 49.0/50 ; training loss : 6357.081751750913: 100%|██████████| 50/50 [00:16<00:00,  3.08it/s] \n"
     ]
    },
    {
     "name": "stdout",
     "output_type": "stream",
     "text": [
      "*** Working on model 10000 , iter 5/5 ***\n"
     ]
    },
    {
     "name": "stderr",
     "output_type": "stream",
     "text": [
      "for epoch 49.0/50 ; training loss : 6401.787953430645: 100%|██████████| 50/50 [00:16<00:00,  3.09it/s] \n"
=======
      "for epoch 3.0/4 ; training loss : 287537.4219856262: 100%|██████████| 4/4 [00:00<00:00,  6.32it/s]\n"
>>>>>>> 60c7fd6429691346cb1cb92ec411241ab22f590a
     ]
    }
   ],
   "source": [
    "for dim in results_dict.keys():\n",
    "    for iter in range(ITER):\n",
    "        print(f'*** Working on model {dim} , iter {iter+1}/{ITER} ***')\n",
    "\n",
    "        model = Network(dim).to(DEVICE)\n",
    "        parameters = {k:v.detach() for k, v in model.named_parameters()}\n",
    "\n",
    "        fnet_single = get_fnet_single(model)\n",
    "        \n",
    "        criterion = nn.MSELoss()\n",
    "        optimizer = optim.Adam(model.parameters(), lr=1e-5)\n",
    "\n",
    "        ntk_init = get_ntk(fnet_single, parameters, x_ntk, multi=False)\n",
    "\n",
    "        pbar = trange(EPOCHS)\n",
    "        for epoch in pbar:\n",
    "            epoch_loss = 0\n",
    "            for x, y in dataset:\n",
    "                x, y = x.to(DEVICE), y.to(DEVICE)\n",
    "                pred = model(x)\n",
    "                loss = criterion(pred, y)\n",
    "                optimizer.zero_grad()\n",
    "                loss.backward()\n",
    "                optimizer.step()\n",
    "                epoch_loss+=loss.item()\n",
    "\n",
    "            pbar.set_description(f\"for epoch {epoch/1}/{EPOCHS} ; training loss : {epoch_loss}\")\n",
    "\n",
    "            parameters = {k:v.detach() for k, v in model.named_parameters()}\n",
    "            ntk = get_ntk(fnet_single, parameters, x_ntk, multi=False)\n",
    "            rel_norm = get_relative_norm(ntk, ntk_init)\n",
    "            results_dict[dim][iter].append(rel_norm)"
   ]
  },
  {
   "cell_type": "code",
<<<<<<< HEAD
   "execution_count": 19,
=======
   "execution_count": 68,
>>>>>>> 60c7fd6429691346cb1cb92ec411241ab22f590a
   "metadata": {},
   "outputs": [
    {
     "data": {
      "text/plain": [
<<<<<<< HEAD
       "<matplotlib.legend.Legend at 0x700280273250>"
      ]
     },
     "execution_count": 19,
=======
       "<matplotlib.legend.Legend at 0x29d93fb10>"
      ]
     },
     "execution_count": 68,
>>>>>>> 60c7fd6429691346cb1cb92ec411241ab22f590a
     "metadata": {},
     "output_type": "execute_result"
    },
    {
     "data": {
<<<<<<< HEAD
      "image/png": "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",
=======
      "image/png": "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",
>>>>>>> 60c7fd6429691346cb1cb92ec411241ab22f590a
      "text/plain": [
       "<Figure size 640x480 with 1 Axes>"
      ]
     },
     "metadata": {},
     "output_type": "display_data"
    }
   ],
   "source": [
    "for dim in results_dict.keys():\n",
    "    mean_results=np.mean(results_dict[dim], axis=0)\n",
    "    plt.plot(mean_results, label=dim)\n",
    "\n",
    "plt.xlabel('Epochs')\n",
    "plt.ylabel(r'$\\frac{\\|\\theta_t - \\theta_0\\|^2}{\\|\\theta_0\\|^2}$')\n",
    "plt.title(\"Evolution of the relative norm of the NTK during the training process\")\n",
    "plt.legend()\n"
   ]
  },
  {
   "cell_type": "code",
   "execution_count": null,
   "metadata": {},
   "outputs": [],
   "source": []
  },
  {
   "cell_type": "code",
   "execution_count": null,
   "metadata": {},
   "outputs": [],
   "source": []
  }
 ],
 "metadata": {
  "kernelspec": {
   "display_name": "anots",
   "language": "python",
   "name": "python3"
  },
  "language_info": {
   "codemirror_mode": {
    "name": "ipython",
    "version": 3
   },
   "file_extension": ".py",
   "mimetype": "text/x-python",
   "name": "python",
   "nbconvert_exporter": "python",
   "pygments_lexer": "ipython3",
   "version": "3.11.10"
  }
 },
 "nbformat": 4,
 "nbformat_minor": 2
}
