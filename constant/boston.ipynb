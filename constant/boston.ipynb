{
 "cells": [
  {
   "cell_type": "code",
   "execution_count": 14,
   "metadata": {},
   "outputs": [],
   "source": [
    "import sys\n",
    "sys.path.append('../')\n",
    "\n",
    "import torch \n",
    "import torch.nn as nn \n",
    "import torch.optim as optim\n",
    "import numpy as np\n",
    "import matplotlib.pyplot as plt\n",
    "from tqdm import trange\n",
    "\n",
    "from models.regression import Network\n",
    "from compute_ntk import get_ntk, get_fnet_single\n",
    "from utils import get_relative_norm\n",
    "from boston.dataset import BostonDataset\n",
    "\n",
    "DEVICE=\"cuda\""
   ]
  },
  {
   "cell_type": "code",
   "execution_count": 16,
   "metadata": {},
   "outputs": [],
   "source": [
    "dataset = BostonDataset(path=\"../boston/Boston.csv\")\n",
    "\n",
    "x_ntk = torch.stack([dataset[i][0] for i in range(100)]).to(DEVICE)"
   ]
  },
  {
   "cell_type": "code",
   "execution_count": 17,
   "metadata": {},
   "outputs": [],
   "source": [
    "EPOCHS=50\n",
    "ITER=5\n",
    "\n",
    "results_dict = {\n",
    "    50:[[0] for _ in range(ITER)],\n",
    "    100:[[0] for _ in range(ITER)],\n",
    "    500:[[0] for _ in range(ITER)],\n",
    "    1000:[[0] for _ in range(ITER)],\n",
    "    5000:[[0] for _ in range(ITER)],\n",
    "    10000:[[0] for _ in range(ITER)],\n",
    "}"
   ]
  },
  {
   "cell_type": "code",
   "execution_count": 18,
   "metadata": {},
   "outputs": [
    {
     "name": "stdout",
     "output_type": "stream",
     "text": [
      "*** Working on model 50 , iter 1/5 ***\n"
     ]
    },
    {
     "name": "stderr",
     "output_type": "stream",
     "text": [
      "for epoch 49.0/50 ; training loss : 206546.077003479: 100%|██████████| 50/50 [00:14<00:00,  3.50it/s]  \n"
     ]
    },
    {
     "name": "stdout",
     "output_type": "stream",
     "text": [
      "*** Working on model 50 , iter 2/5 ***\n"
     ]
    },
    {
     "name": "stderr",
     "output_type": "stream",
     "text": [
      "for epoch 49.0/50 ; training loss : 195398.7320829073: 100%|██████████| 50/50 [00:15<00:00,  3.33it/s] \n"
     ]
    },
    {
     "name": "stdout",
     "output_type": "stream",
     "text": [
      "*** Working on model 50 , iter 3/5 ***\n"
     ]
    },
    {
     "name": "stderr",
     "output_type": "stream",
     "text": [
      "for epoch 49.0/50 ; training loss : 200128.1303935051: 100%|██████████| 50/50 [00:14<00:00,  3.55it/s] \n"
     ]
    },
    {
     "name": "stdout",
     "output_type": "stream",
     "text": [
      "*** Working on model 50 , iter 4/5 ***\n"
     ]
    },
    {
     "name": "stderr",
     "output_type": "stream",
     "text": [
      "for epoch 49.0/50 ; training loss : 217387.95042456686: 100%|██████████| 50/50 [00:14<00:00,  3.47it/s]\n"
     ]
    },
    {
     "name": "stdout",
     "output_type": "stream",
     "text": [
      "*** Working on model 50 , iter 5/5 ***\n"
     ]
    },
    {
     "name": "stderr",
     "output_type": "stream",
     "text": [
      "for epoch 49.0/50 ; training loss : 201693.0243806243: 100%|██████████| 50/50 [00:14<00:00,  3.45it/s] \n"
     ]
    },
    {
     "name": "stdout",
     "output_type": "stream",
     "text": [
      "*** Working on model 100 , iter 1/5 ***\n"
     ]
    },
    {
     "name": "stderr",
     "output_type": "stream",
     "text": [
      "for epoch 49.0/50 ; training loss : 129891.91164171696: 100%|██████████| 50/50 [00:14<00:00,  3.41it/s]\n"
     ]
    },
    {
     "name": "stdout",
     "output_type": "stream",
     "text": [
      "*** Working on model 100 , iter 2/5 ***\n"
     ]
    },
    {
     "name": "stderr",
     "output_type": "stream",
     "text": [
      "for epoch 49.0/50 ; training loss : 146910.80168462172: 100%|██████████| 50/50 [00:14<00:00,  3.42it/s]\n"
     ]
    },
    {
     "name": "stdout",
     "output_type": "stream",
     "text": [
      "*** Working on model 100 , iter 3/5 ***\n"
     ]
    },
    {
     "name": "stderr",
     "output_type": "stream",
     "text": [
      "for epoch 49.0/50 ; training loss : 159930.47812204325: 100%|██████████| 50/50 [00:14<00:00,  3.36it/s]\n"
     ]
    },
    {
     "name": "stdout",
     "output_type": "stream",
     "text": [
      "*** Working on model 100 , iter 4/5 ***\n"
     ]
    },
    {
     "name": "stderr",
     "output_type": "stream",
     "text": [
      "for epoch 49.0/50 ; training loss : 141597.48757661693: 100%|██████████| 50/50 [00:14<00:00,  3.37it/s]\n"
     ]
    },
    {
     "name": "stdout",
     "output_type": "stream",
     "text": [
      "*** Working on model 100 , iter 5/5 ***\n"
     ]
    },
    {
     "name": "stderr",
     "output_type": "stream",
     "text": [
      "for epoch 49.0/50 ; training loss : 157759.00319248438: 100%|██████████| 50/50 [00:14<00:00,  3.34it/s]\n"
     ]
    },
    {
     "name": "stdout",
     "output_type": "stream",
     "text": [
      "*** Working on model 500 , iter 1/5 ***\n"
     ]
    },
    {
     "name": "stderr",
     "output_type": "stream",
     "text": [
      "for epoch 49.0/50 ; training loss : 23045.229350623267: 100%|██████████| 50/50 [00:15<00:00,  3.32it/s]\n"
     ]
    },
    {
     "name": "stdout",
     "output_type": "stream",
     "text": [
      "*** Working on model 500 , iter 2/5 ***\n"
     ]
    },
    {
     "name": "stderr",
     "output_type": "stream",
     "text": [
      "for epoch 49.0/50 ; training loss : 20838.092721154364: 100%|██████████| 50/50 [00:15<00:00,  3.32it/s]\n"
     ]
    },
    {
     "name": "stdout",
     "output_type": "stream",
     "text": [
      "*** Working on model 500 , iter 3/5 ***\n"
     ]
    },
    {
     "name": "stderr",
     "output_type": "stream",
     "text": [
      "for epoch 49.0/50 ; training loss : 21008.56969187595: 100%|██████████| 50/50 [00:15<00:00,  3.32it/s] \n"
     ]
    },
    {
     "name": "stdout",
     "output_type": "stream",
     "text": [
      "*** Working on model 500 , iter 4/5 ***\n"
     ]
    },
    {
     "name": "stderr",
     "output_type": "stream",
     "text": [
      "for epoch 49.0/50 ; training loss : 22937.193613712094: 100%|██████████| 50/50 [00:15<00:00,  3.31it/s]\n"
     ]
    },
    {
     "name": "stdout",
     "output_type": "stream",
     "text": [
      "*** Working on model 500 , iter 5/5 ***\n"
     ]
    },
    {
     "name": "stderr",
     "output_type": "stream",
     "text": [
      "for epoch 49.0/50 ; training loss : 21335.821488136837: 100%|██████████| 50/50 [00:15<00:00,  3.27it/s]\n"
     ]
    },
    {
     "name": "stdout",
     "output_type": "stream",
     "text": [
      "*** Working on model 1000 , iter 1/5 ***\n"
     ]
    },
    {
     "name": "stderr",
     "output_type": "stream",
     "text": [
      "for epoch 49.0/50 ; training loss : 14035.217612800887: 100%|██████████| 50/50 [00:15<00:00,  3.23it/s]\n"
     ]
    },
    {
     "name": "stdout",
     "output_type": "stream",
     "text": [
      "*** Working on model 1000 , iter 2/5 ***\n"
     ]
    },
    {
     "name": "stderr",
     "output_type": "stream",
     "text": [
      "for epoch 49.0/50 ; training loss : 13490.764399808832: 100%|██████████| 50/50 [00:15<00:00,  3.26it/s]\n"
     ]
    },
    {
     "name": "stdout",
     "output_type": "stream",
     "text": [
      "*** Working on model 1000 , iter 3/5 ***\n"
     ]
    },
    {
     "name": "stderr",
     "output_type": "stream",
     "text": [
      "for epoch 49.0/50 ; training loss : 13399.5589874836: 100%|██████████| 50/50 [00:15<00:00,  3.24it/s]  \n"
     ]
    },
    {
     "name": "stdout",
     "output_type": "stream",
     "text": [
      "*** Working on model 1000 , iter 4/5 ***\n"
     ]
    },
    {
     "name": "stderr",
     "output_type": "stream",
     "text": [
      "for epoch 49.0/50 ; training loss : 13456.680757986182: 100%|██████████| 50/50 [00:15<00:00,  3.26it/s]\n"
     ]
    },
    {
     "name": "stdout",
     "output_type": "stream",
     "text": [
      "*** Working on model 1000 , iter 5/5 ***\n"
     ]
    },
    {
     "name": "stderr",
     "output_type": "stream",
     "text": [
      "for epoch 49.0/50 ; training loss : 13902.187615009901: 100%|██████████| 50/50 [00:15<00:00,  3.20it/s]\n"
     ]
    },
    {
     "name": "stdout",
     "output_type": "stream",
     "text": [
      "*** Working on model 5000 , iter 1/5 ***\n"
     ]
    },
    {
     "name": "stderr",
     "output_type": "stream",
     "text": [
      "for epoch 49.0/50 ; training loss : 7570.709306513541: 100%|██████████| 50/50 [00:16<00:00,  3.08it/s] \n"
     ]
    },
    {
     "name": "stdout",
     "output_type": "stream",
     "text": [
      "*** Working on model 5000 , iter 2/5 ***\n"
     ]
    },
    {
     "name": "stderr",
     "output_type": "stream",
     "text": [
      "for epoch 49.0/50 ; training loss : 7547.3648619102605: 100%|██████████| 50/50 [00:16<00:00,  3.09it/s]\n"
     ]
    },
    {
     "name": "stdout",
     "output_type": "stream",
     "text": [
      "*** Working on model 5000 , iter 3/5 ***\n"
     ]
    },
    {
     "name": "stderr",
     "output_type": "stream",
     "text": [
      "for epoch 49.0/50 ; training loss : 7546.153042862163: 100%|██████████| 50/50 [00:16<00:00,  3.09it/s] \n"
     ]
    },
    {
     "name": "stdout",
     "output_type": "stream",
     "text": [
      "*** Working on model 5000 , iter 4/5 ***\n"
     ]
    },
    {
     "name": "stderr",
     "output_type": "stream",
     "text": [
      "for epoch 49.0/50 ; training loss : 7625.79302016797: 100%|██████████| 50/50 [00:16<00:00,  3.10it/s]  \n"
     ]
    },
    {
     "name": "stdout",
     "output_type": "stream",
     "text": [
      "*** Working on model 5000 , iter 5/5 ***\n"
     ]
    },
    {
     "name": "stderr",
     "output_type": "stream",
     "text": [
      "for epoch 49.0/50 ; training loss : 7567.417629121686: 100%|██████████| 50/50 [00:16<00:00,  3.11it/s] \n"
     ]
    },
    {
     "name": "stdout",
     "output_type": "stream",
     "text": [
      "*** Working on model 10000 , iter 1/5 ***\n"
     ]
    },
    {
     "name": "stderr",
     "output_type": "stream",
     "text": [
      "for epoch 49.0/50 ; training loss : 6334.8086650491605: 100%|██████████| 50/50 [00:16<00:00,  3.11it/s]\n"
     ]
    },
    {
     "name": "stdout",
     "output_type": "stream",
     "text": [
      "*** Working on model 10000 , iter 2/5 ***\n"
     ]
    },
    {
     "name": "stderr",
     "output_type": "stream",
     "text": [
      "for epoch 49.0/50 ; training loss : 6400.743786176492: 100%|██████████| 50/50 [00:16<00:00,  3.09it/s] \n"
     ]
    },
    {
     "name": "stdout",
     "output_type": "stream",
     "text": [
      "*** Working on model 10000 , iter 3/5 ***\n"
     ]
    },
    {
     "name": "stderr",
     "output_type": "stream",
     "text": [
      "for epoch 49.0/50 ; training loss : 6419.873712027067: 100%|██████████| 50/50 [00:16<00:00,  3.10it/s] \n"
     ]
    },
    {
     "name": "stdout",
     "output_type": "stream",
     "text": [
      "*** Working on model 10000 , iter 4/5 ***\n"
     ]
    },
    {
     "name": "stderr",
     "output_type": "stream",
     "text": [
      "for epoch 49.0/50 ; training loss : 6357.081751750913: 100%|██████████| 50/50 [00:16<00:00,  3.08it/s] \n"
     ]
    },
    {
     "name": "stdout",
     "output_type": "stream",
     "text": [
      "*** Working on model 10000 , iter 5/5 ***\n"
     ]
    },
    {
     "name": "stderr",
     "output_type": "stream",
     "text": [
      "for epoch 49.0/50 ; training loss : 6401.787953430645: 100%|██████████| 50/50 [00:16<00:00,  3.09it/s] \n"
     ]
    }
   ],
   "source": [
    "for dim in results_dict.keys():\n",
    "    for iter in range(ITER):\n",
    "        print(f'*** Working on model {dim} , iter {iter+1}/{ITER} ***')\n",
    "\n",
    "        model = Network(dim).to(DEVICE)\n",
    "        parameters = {k:v.detach() for k, v in model.named_parameters()}\n",
    "\n",
    "        fnet_single = get_fnet_single(model)\n",
    "        \n",
    "        criterion = nn.MSELoss()\n",
    "        optimizer = optim.Adam(model.parameters(), lr=1e-5)\n",
    "\n",
    "        ntk_init = get_ntk(fnet_single, parameters, x_ntk, multi=False)\n",
    "\n",
    "        pbar = trange(EPOCHS)\n",
    "        for epoch in pbar:\n",
    "            epoch_loss = 0\n",
    "            for x, y in dataset:\n",
    "                x, y = x.to(DEVICE), y.to(DEVICE)\n",
    "                pred = model(x)\n",
    "                loss = criterion(pred, y)\n",
    "                optimizer.zero_grad()\n",
    "                loss.backward()\n",
    "                optimizer.step()\n",
    "                epoch_loss+=loss.item()\n",
    "\n",
    "            pbar.set_description(f\"for epoch {epoch/1}/{EPOCHS} ; training loss : {epoch_loss}\")\n",
    "\n",
    "            parameters = {k:v.detach() for k, v in model.named_parameters()}\n",
    "            ntk = get_ntk(fnet_single, parameters, x_ntk, multi=False)\n",
    "            rel_norm = get_relative_norm(ntk, ntk_init)\n",
    "            results_dict[dim][iter].append(rel_norm)"
   ]
  },
  {
   "cell_type": "code",
   "execution_count": 19,
   "metadata": {},
   "outputs": [
    {
     "data": {
      "text/plain": [
       "<matplotlib.legend.Legend at 0x700280273250>"
      ]
     },
     "execution_count": 19,
     "metadata": {},
     "output_type": "execute_result"
    },
    {
     "data": {
      "image/png": "[encoded data removed]",
      "text/plain": [
       "<Figure size 640x480 with 1 Axes>"
      ]
     },
     "metadata": {},
     "output_type": "display_data"
    }
   ],
   "source": [
    "for dim in results_dict.keys():\n",
    "    mean_results=np.mean(results_dict[dim], axis=0)\n",
    "    plt.plot(mean_results, label=dim)\n",
    "\n",
    "plt.xlabel('Epochs')\n",
    "plt.ylabel(r'$\\frac{\\|\\theta_t - \\theta_0\\|^2}{\\|\\theta_0\\|^2}$')\n",
    "plt.title(\"Evolution of the relative norm of the NTK during the training process\")\n",
    "plt.legend()\n"
   ]
  },
  {
   "cell_type": "code",
   "execution_count": null,
   "metadata": {},
   "outputs": [],
   "source": []
  }
 ],
 "metadata": {
  "kernelspec": {
   "display_name": "anots",
   "language": "python",
   "name": "python3"
  },
  "language_info": {
   "codemirror_mode": {
    "name": "ipython",
    "version": 3
   },
   "file_extension": ".py",
   "mimetype": "text/x-python",
   "name": "python",
   "nbconvert_exporter": "python",
   "pygments_lexer": "ipython3",
   "version": "3.11.10"
  }
 },
 "nbformat": 4,
 "nbformat_minor": 2
}
